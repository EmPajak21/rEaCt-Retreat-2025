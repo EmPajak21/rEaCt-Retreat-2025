{
 "cells": [
  {
   "cell_type": "markdown",
   "metadata": {},
   "source": [
    "# Interactive Demonstration of Biokinetic Growth Terms\n",
    "\n",
    "This notebook provides an interactive demonstration of different growth terms commonly used in bioprocess modeling. You can explore how different parameters affect growth kinetics and substrate consumption."
   ]
  },
  {
   "cell_type": "code",
   "execution_count": 1,
   "metadata": {},
   "outputs": [],
   "source": [
    "from visualisation import demo_competitive_inhibition_factor, demo_competitive_product_inhibition, demo_double_substrate, demo_hill_kinetics, demo_inhibitor_saturation, demo_monod, demo_non_competitive_product_inhibition, demo_substrate_inhibition, demo_threshold"
   ]
  },
  {
   "cell_type": "markdown",
   "metadata": {},
   "source": [
    "\n",
    "## 1. Monod Growth\n",
    "\n",
    "The Monod equation is the fundamental model for microbial growth kinetics. It describes the relationship between specific growth rate and limiting substrate concentration:\n",
    "\n",
    "$\\mu = \\mu_{max} \\frac{S}{K_s + S}$\n",
    "\n",
    "Where:\n",
    "- $\\mu$ is the specific growth rate\n",
    "- $\\mu_{max}$ is the maximum specific growth rate\n",
    "- $S$ is the substrate concentration\n",
    "- $K_s$ is the half-saturation constant (substrate concentration at which $\\mu = \\frac{\\mu_{max}}{2}$)"
   ]
  },
  {
   "cell_type": "code",
   "execution_count": 2,
   "metadata": {},
   "outputs": [
    {
     "data": {
      "application/vnd.jupyter.widget-view+json": {
       "model_id": "066bc60b886a409a8be689ade79ca7ba",
       "version_major": 2,
       "version_minor": 0
      },
      "text/plain": [
       "interactive(children=(FloatSlider(value=0.5, description='μ_max', max=2.0, min=0.1), FloatSlider(value=2.0, de…"
      ]
     },
     "metadata": {},
     "output_type": "display_data"
    }
   ],
   "source": [
    "demo_monod()"
   ]
  },
  {
   "cell_type": "markdown",
   "metadata": {},
   "source": [
    "## 2. Hill Kinetics Growth\n",
    "\n",
    "Hill kinetics introduces cooperativity into the growth model. Cooperativity means that the initial breakdown of substrate by an organism makes further substrate degradation easier for all organisms. This creates sharper transitions in growth rate, described by:\n",
    "\n",
    "$\\mu = \\mu_{max} \\frac{S^n}{K_s^n + S^n}$\n",
    "\n",
    "Where:\n",
    "\n",
    "- $n$ is the Hill coefficient (cooperativity parameter)\n",
    "- Values of $n > 1$ indicate positive cooperativity, resulting in steeper growth responses"
   ]
  },
  {
   "cell_type": "code",
   "execution_count": 3,
   "metadata": {},
   "outputs": [
    {
     "data": {
      "application/vnd.jupyter.widget-view+json": {
       "model_id": "dda561b26bac4c7d9bf7b6528988ee3c",
       "version_major": 2,
       "version_minor": 0
      },
      "text/plain": [
       "interactive(children=(FloatSlider(value=0.5, description='μ_max', max=2.0, min=0.1), FloatSlider(value=2.0, de…"
      ]
     },
     "metadata": {},
     "output_type": "display_data"
    }
   ],
   "source": [
    "# Run the Hill kinetics demonstration\n",
    "demo_hill_kinetics()"
   ]
  },
  {
   "cell_type": "markdown",
   "metadata": {},
   "source": [
    "## 3. Substrate Inhibition\n",
    "\n",
    "Substrate inhibition occurs when high substrate concentrations inhibit growth:\n",
    "\n",
    "$\\mu = \\mu_{max} \\frac{S}{K_s + S} \\frac{1}{1 + \\frac{S}{K_I}}$\n",
    "\n",
    "Where:\n",
    "- $K_I$ is the inhibition constant"
   ]
  },
  {
   "cell_type": "code",
   "execution_count": 4,
   "metadata": {},
   "outputs": [
    {
     "data": {
      "application/vnd.jupyter.widget-view+json": {
       "model_id": "81b6bd958b3049c3ada1c4228a2009de",
       "version_major": 2,
       "version_minor": 0
      },
      "text/plain": [
       "interactive(children=(FloatSlider(value=0.5, description='μ_max', max=2.0, min=0.1), FloatSlider(value=2.0, de…"
      ]
     },
     "metadata": {},
     "output_type": "display_data"
    }
   ],
   "source": [
    "demo_substrate_inhibition()"
   ]
  },
  {
   "cell_type": "markdown",
   "metadata": {},
   "source": [
    "## 4. Product Inhibition (Competitive)\n",
    "\n",
    "Product inhibition occurs when the product interferes with substrate uptake:\n",
    "\n",
    "$\\mu = \\mu_{max} \\frac{S}{K_s (1 + \\frac{P}{K_P}) + S}$\n",
    "\n",
    "Where:\n",
    "- $P$ is the product concentration\n",
    "- $K_P$ is the product inhibition constant\n",
    "\n",
    "Note: In this demonstration, we assume product formation is proportional to biomass with yield coefficient $Y_{ps}$."
   ]
  },
  {
   "cell_type": "code",
   "execution_count": 5,
   "metadata": {},
   "outputs": [
    {
     "data": {
      "application/vnd.jupyter.widget-view+json": {
       "model_id": "8834945f549f422a808a91b6eb3dca84",
       "version_major": 2,
       "version_minor": 0
      },
      "text/plain": [
       "interactive(children=(FloatSlider(value=0.5, description='μ_max', max=2.0, min=0.1), FloatSlider(value=2.0, de…"
      ]
     },
     "metadata": {},
     "output_type": "display_data"
    }
   ],
   "source": [
    "# Run the product inhibition demonstration\n",
    "demo_competitive_product_inhibition()"
   ]
  },
  {
   "cell_type": "markdown",
   "metadata": {},
   "source": [
    "## Non-Competitive Product Inhibition\n",
    "\n",
    "In non-competitive product inhibition, the product inhibits growth regardless of substrate concentration. The product binds to a different site than the substrate, reducing the overall growth rate without affecting substrate uptake. This is described by:\n",
    "\n",
    "$\\mu = \\mu_{max} \\frac{S}{K_s + S} \\frac{1}{1 + \\frac{P}{K_P}}$\n",
    "\n",
    "Where higher product concentrations increasingly slow down growth"
   ]
  },
  {
   "cell_type": "code",
   "execution_count": 6,
   "metadata": {},
   "outputs": [
    {
     "data": {
      "application/vnd.jupyter.widget-view+json": {
       "model_id": "b3f92998062d4045a76ade7ab3f279a1",
       "version_major": 2,
       "version_minor": 0
      },
      "text/plain": [
       "interactive(children=(FloatSlider(value=0.5, description='μ_max', max=2.0, min=0.1), FloatSlider(value=2.0, de…"
      ]
     },
     "metadata": {},
     "output_type": "display_data"
    }
   ],
   "source": [
    "demo_non_competitive_product_inhibition()"
   ]
  },
  {
   "cell_type": "markdown",
   "metadata": {},
   "source": [
    "## Competitive Inhibition Factor\n",
    "Competitive inhibition occurs when an inhibitor molecule competes with the substrate for the same binding site. This effectively reduces the substrate uptake rate, described by:\n",
    "\n",
    "$\\mu = \\mu_{max} \\frac{S}{K_s(1 + \\frac{I}{K_I}) + S}$\n",
    "\n",
    "Where higher inhibitor concentrations require more substrate to achieve the same growth rate"
   ]
  },
  {
   "cell_type": "code",
   "execution_count": 7,
   "metadata": {},
   "outputs": [
    {
     "data": {
      "application/vnd.jupyter.widget-view+json": {
       "model_id": "856b4b9c2c1941fe94401e33862a90f0",
       "version_major": 2,
       "version_minor": 0
      },
      "text/plain": [
       "interactive(children=(FloatSlider(value=0.5, description='μ_max', max=2.0, min=0.1), FloatSlider(value=2.0, de…"
      ]
     },
     "metadata": {},
     "output_type": "display_data"
    }
   ],
   "source": [
    "demo_competitive_inhibition_factor()"
   ]
  },
  {
   "cell_type": "markdown",
   "metadata": {},
   "source": [
    "\n",
    "## Double Substrate Limited Factor\n",
    "\n",
    "Double substrate limitation occurs when growth depends on two essential substrates simultaneously (e.g., carbon and nitrogen sources). Neither substrate alone can support growth. This is described by:\n",
    "\n",
    "$\\mu = \\mu_{max} \\frac{S_1}{K_{S1} + S_1} \\frac{S_2}{K_{S2} + S_2}$\n",
    "\n",
    "Where:\n",
    "\n",
    "$S_1$ and $S_2$ are concentrations of the two substrates\n",
    "$K_{S1}$ and $K_{S2}$ are their respective half-saturation constants\n",
    "Growth rate is limited by the less abundant substrate"
   ]
  },
  {
   "cell_type": "code",
   "execution_count": 8,
   "metadata": {},
   "outputs": [
    {
     "data": {
      "application/vnd.jupyter.widget-view+json": {
       "model_id": "8a80b072c26d4bd281c389ab444c1fdb",
       "version_major": 2,
       "version_minor": 0
      },
      "text/plain": [
       "interactive(children=(FloatSlider(value=0.5, description='μ_max', max=2.0, min=0.1), FloatSlider(value=2.0, de…"
      ]
     },
     "metadata": {},
     "output_type": "display_data"
    }
   ],
   "source": [
    "demo_double_substrate()"
   ]
  },
  {
   "cell_type": "markdown",
   "metadata": {},
   "source": [
    "## Substrate Threshold Activation\n",
    "Substrate threshold activation represents systems where growth only occurs above a minimum substrate concentration. Below this threshold, no growth occurs. This is described by:\n",
    "\n",
    "$\\mu = \\begin{cases}\n",
    "0 & \\text{if } S < S_{threshold} \\\\\n",
    "\\mu_{max} \\frac{S - S_{threshold}}{K_s + (S - S_{threshold})} & \\text{if } S \\geq S_{threshold}\n",
    "\\end{cases}$\n",
    "\n",
    "Where:\n",
    "\n",
    "- $S_{threshold}$ is the minimum substrate concentration needed for growth\n",
    "- Growth follows Monod kinetics above the threshold"
   ]
  },
  {
   "cell_type": "code",
   "execution_count": 9,
   "metadata": {},
   "outputs": [
    {
     "data": {
      "application/vnd.jupyter.widget-view+json": {
       "model_id": "6ed7af54dfe74a809491c25ec3a83371",
       "version_major": 2,
       "version_minor": 0
      },
      "text/plain": [
       "interactive(children=(FloatSlider(value=0.5, description='μ_max', max=2.0, min=0.1), FloatSlider(value=2.0, de…"
      ]
     },
     "metadata": {},
     "output_type": "display_data"
    }
   ],
   "source": [
    "demo_threshold()"
   ]
  },
  {
   "cell_type": "markdown",
   "metadata": {},
   "source": [
    "## Inhibitor Saturation\n",
    "Inhibitor saturation describes systems where the inhibitory effect has an upper limit, regardless of inhibitor concentration. As inhibitor levels increase, the growth rate approaches a non-zero minimum, described by:\n",
    "\n",
    "$\\mu = \\mu_{max} \\frac{S}{K_s + S} \\frac{1}{1 + \\frac{P}{K_I + P}}$\n",
    "\n",
    "Where the growth rate decreases, but with larger product concentrations, the effect reached a saturation"
   ]
  },
  {
   "cell_type": "code",
   "execution_count": 10,
   "metadata": {},
   "outputs": [
    {
     "data": {
      "application/vnd.jupyter.widget-view+json": {
       "model_id": "250838303bf14a74a7cac259fc58e37b",
       "version_major": 2,
       "version_minor": 0
      },
      "text/plain": [
       "interactive(children=(FloatSlider(value=0.5, description='μ_max', max=2.0, min=0.1), FloatSlider(value=2.0, de…"
      ]
     },
     "metadata": {},
     "output_type": "display_data"
    }
   ],
   "source": [
    "demo_inhibitor_saturation()"
   ]
  },
  {
   "cell_type": "markdown",
   "metadata": {},
   "source": [
    "## Using the Interactive Widgets\n",
    "\n",
    "1. Use the sliders to adjust parameters\n",
    "2. Observe how changes affect:\n",
    "   - Biomass growth curve\n",
    "   - Substrate consumption profile\n",
    "   - Overall process dynamics\n",
    "\n",
    "## Key Parameters\n",
    "\n",
    "- $\\mu_{max}$: Maximum specific growth rate (h⁻¹)\n",
    "- $K_s$: Half-saturation constant (g/L)\n",
    "- $K_I$: Inhibition constant (g/L)\n",
    "- $K_P$: Product inhibition constant (g/L)\n",
    "- $Y_{xs}$: Biomass yield coefficient (g biomass/g substrate)\n",
    "- $S_{threshold}$: Minimum substrate concentration needed for growth"
   ]
  },
  {
   "cell_type": "markdown",
   "metadata": {},
   "source": []
  }
 ],
 "metadata": {
  "kernelspec": {
   "display_name": "bo_examples311",
   "language": "python",
   "name": "python3"
  },
  "language_info": {
   "codemirror_mode": {
    "name": "ipython",
    "version": 3
   },
   "file_extension": ".py",
   "mimetype": "text/x-python",
   "name": "python",
   "nbconvert_exporter": "python",
   "pygments_lexer": "ipython3",
   "version": "3.11.10"
  }
 },
 "nbformat": 4,
 "nbformat_minor": 2
}
